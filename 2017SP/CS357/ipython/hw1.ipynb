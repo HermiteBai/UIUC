{
 "cells": [
  {
   "cell_type": "code",
   "execution_count": 8,
   "metadata": {
    "collapsed": true
   },
   "outputs": [],
   "source": [
    "import numpy as np\n",
    "ncoeffs = 10\n",
    "fourier_coeffs = np.random.randn(ncoeffs) + 1j* np.random.randn(ncoeffs)\n",
    "\n",
    "path_length = 50\n",
    "t = 10/(2*np.pi)*np.linspace(0, 1, path_length)\n",
    "path_c = sum(c*np.exp(1j*t*k) for k, c in enumerate(fourier_coeffs))\n",
    "\n",
    "path = np.array([path_c.real, path_c.imag])\n",
    "\n",
    "degree = np.random.randint(1,3)\n",
    "degree = 2*degree"
   ]
  },
  {
   "cell_type": "code",
   "execution_count": 10,
   "metadata": {
    "collapsed": false
   },
   "outputs": [
    {
     "name": "stdout",
     "output_type": "stream",
     "text": [
      "0 2\n",
      "0 2\n",
      "1 3\n",
      "2 4\n"
     ]
    },
    {
     "ename": "IndexError",
     "evalue": "index 3 is out of bounds for axis 0 with size 3",
     "output_type": "error",
     "traceback": [
      "\u001b[0;31m---------------------------------------------------------------------------\u001b[0m",
      "\u001b[0;31mIndexError\u001b[0m                                Traceback (most recent call last)",
      "\u001b[0;32m<ipython-input-10-97ae2f9ebcd2>\u001b[0m in \u001b[0;36m<module>\u001b[0;34m()\u001b[0m\n\u001b[1;32m     40\u001b[0m     \u001b[0mcoeffisx\u001b[0m \u001b[0;34m=\u001b[0m \u001b[0mla\u001b[0m\u001b[0;34m.\u001b[0m\u001b[0msolve\u001b[0m\u001b[0;34m(\u001b[0m\u001b[0mV\u001b[0m\u001b[0;34m,\u001b[0m \u001b[0mx\u001b[0m\u001b[0;34m[\u001b[0m\u001b[0mlow\u001b[0m\u001b[0;34m:\u001b[0m\u001b[0mhigh\u001b[0m\u001b[0;34m+\u001b[0m\u001b[0;36m1\u001b[0m\u001b[0;34m]\u001b[0m\u001b[0;34m)\u001b[0m\u001b[0;34m\u001b[0m\u001b[0m\n\u001b[1;32m     41\u001b[0m     \u001b[0mcoeffisy\u001b[0m \u001b[0;34m=\u001b[0m \u001b[0mla\u001b[0m\u001b[0;34m.\u001b[0m\u001b[0msolve\u001b[0m\u001b[0;34m(\u001b[0m\u001b[0mV\u001b[0m\u001b[0;34m,\u001b[0m \u001b[0my\u001b[0m\u001b[0;34m[\u001b[0m\u001b[0mlow\u001b[0m\u001b[0;34m:\u001b[0m\u001b[0mhigh\u001b[0m\u001b[0;34m+\u001b[0m\u001b[0;36m1\u001b[0m\u001b[0;34m]\u001b[0m\u001b[0;34m)\u001b[0m\u001b[0;34m\u001b[0m\u001b[0m\n\u001b[0;32m---> 42\u001b[0;31m     \u001b[0mdx\u001b[0m \u001b[0;34m=\u001b[0m \u001b[0md\u001b[0m\u001b[0;34m(\u001b[0m\u001b[0mcoeffisx\u001b[0m\u001b[0;34m,\u001b[0m \u001b[0mts\u001b[0m\u001b[0;34m[\u001b[0m\u001b[0mi\u001b[0m\u001b[0;34m]\u001b[0m\u001b[0;34m)\u001b[0m\u001b[0;34m\u001b[0m\u001b[0m\n\u001b[0m\u001b[1;32m     43\u001b[0m     \u001b[0mdy\u001b[0m \u001b[0;34m=\u001b[0m \u001b[0md\u001b[0m\u001b[0;34m(\u001b[0m\u001b[0mcoeffisx\u001b[0m\u001b[0;34m,\u001b[0m \u001b[0mts\u001b[0m\u001b[0;34m[\u001b[0m\u001b[0mi\u001b[0m\u001b[0;34m]\u001b[0m\u001b[0;34m)\u001b[0m\u001b[0;34m\u001b[0m\u001b[0m\n",
      "\u001b[0;31mIndexError\u001b[0m: index 3 is out of bounds for axis 0 with size 3"
     ]
    }
   ],
   "source": [
    "import numpy as np\n",
    "import numpy.linalg as la\n",
    "import matplotlib.pyplot as plt\n",
    "import math\n",
    "\n",
    "len_path = path.shape[1]\n",
    "\n",
    "speed = np.empty(len_path)\n",
    "curvature = np.empty(len_path)\n",
    "acceleration = np.empty(len_path)\n",
    "\n",
    "def f(coeffis, x):\n",
    "    return sum([coeffis[i] * x ** i for i in range(len(coeffis))])\n",
    "def d(coeffis, x):\n",
    "    return sum([coeffis[i] * i * x ** (i - 1) for i in range(1, len(coeffis) - 1)])\n",
    "\n",
    "def chooseTs(degree, t, ts):\n",
    "    inf, sup = 0, len(ts) - 1\n",
    "    low = math.floor(t - degree / 2)\n",
    "    high = math.floor(t + degree / 2)\n",
    "    if low < inf:\n",
    "        high += (inf - low)\n",
    "        low = inf\n",
    "        return low, high\n",
    "    if high > sup:\n",
    "        low -= (high - sup)\n",
    "        high = sup\n",
    "        return low, high\n",
    "    return low, high\n",
    "def getV(degree, x):\n",
    "    return np.array([x ** i for i in range(degree + 1)]).T\n",
    "\n",
    "x = path[0]\n",
    "y = path[1]\n",
    "for i in range(len(t)):\n",
    "    low, high = chooseTs(degree, i, t)\n",
    "    print(low, high)\n",
    "    ts = t[low: high+1]\n",
    "    V = getV(degree, ts)\n",
    "    coeffisx = la.solve(V, x[low:high+1])\n",
    "    coeffisy = la.solve(V, y[low:high+1])\n",
    "    dx = d(coeffisx, ts[i])\n",
    "    dy = d(coeffisx, ts[i])"
   ]
  },
  {
   "cell_type": "code",
   "execution_count": null,
   "metadata": {
    "collapsed": true
   },
   "outputs": [],
   "source": []
  }
 ],
 "metadata": {
  "kernelspec": {
   "display_name": "Python 3",
   "language": "python",
   "name": "python3"
  },
  "language_info": {
   "codemirror_mode": {
    "name": "ipython",
    "version": 3
   },
   "file_extension": ".py",
   "mimetype": "text/x-python",
   "name": "python",
   "nbconvert_exporter": "python",
   "pygments_lexer": "ipython3",
   "version": "3.6.0"
  }
 },
 "nbformat": 4,
 "nbformat_minor": 2
}
