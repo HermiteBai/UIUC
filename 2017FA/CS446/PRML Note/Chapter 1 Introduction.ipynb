{
 "cells": [
  {
   "cell_type": "code",
   "execution_count": 1,
   "metadata": {
    "collapsed": true
   },
   "outputs": [],
   "source": [
    "from IPython.core.interactiveshell import InteractiveShell\n",
    "InteractiveShell.ast_node_interactivity = \"all\"\n",
    "%matplotlib inline\n",
    "import numpy as np\n",
    "import matplotlib.pyplot as plt"
   ]
  },
  {
   "cell_type": "markdown",
   "metadata": {},
   "source": [
    "#  Introduction\n",
    "## Polynomial Fitting"
   ]
  },
  {
   "cell_type": "markdown",
   "metadata": {},
   "source": [
    "Suppose we have dataset $\\mathcal{D} = \\{(x_i, y_i), i = 1, 2, \\cdots, n\\}$, If we want to predict $\\hat{y}$ from a new sample $\\hat{x}$, one of the most basic method is to use these data to fit a polynomial curve $$y = f(x) = \\sum_{i = 1}^{N} w_i x^i$$ with $\\mathcal{D}$."
   ]
  },
  {
   "cell_type": "code",
   "execution_count": 2,
   "metadata": {},
   "outputs": [
    {
     "data": {
      "text/plain": [
       "[<matplotlib.lines.Line2D at 0x106742b70>]"
      ]
     },
     "execution_count": 2,
     "metadata": {},
     "output_type": "execute_result"
    },
    {
     "data": {
      "text/plain": [
       "[<matplotlib.lines.Line2D at 0x1066b7c88>]"
      ]
     },
     "execution_count": 2,
     "metadata": {},
     "output_type": "execute_result"
    },
    {
     "data": {
      "text/plain": [
       "<matplotlib.text.Text at 0x1066d6940>"
      ]
     },
     "execution_count": 2,
     "metadata": {},
     "output_type": "execute_result"
    },
    {
     "data": {
      "text/plain": [
       "<matplotlib.text.Text at 0x1066f4048>"
      ]
     },
     "execution_count": 2,
     "metadata": {},
     "output_type": "execute_result"
    },
    {
     "data": {
      "image/png": "[encoded data removed]",
      "text/plain": [
       "<matplotlib.figure.Figure at 0x1066b7d30>"
      ]
     },
     "metadata": {},
     "output_type": "display_data"
    }
   ],
   "source": [
    "x = np.linspace(-0.2, 6.2, 100)\n",
    "xd = 6 * np.random.random(size=10)\n",
    "noise = 0.1 * (2 * np.random.random(size = 10) - 1.0)\n",
    "y = np.sin(x)\n",
    "plt.plot(x, y, 'g')\n",
    "plt.plot(xd, np.sin(xd) + noise, 'bo', markerfacecolor='None')\n",
    "plt.xlabel('x')\n",
    "plt.ylabel('y')"
   ]
  },
  {
   "cell_type": "markdown",
   "metadata": {},
   "source": [
    "In order to fit a curve, our goal is to minimize **error function**\n",
    "$$E(\\mathbf{w}) = \\frac{1}{2}\\sum_{n = 1}^N \\{f(x_n, \\mathbf{w}) - y_n\\}^{2}$$"
   ]
  },
  {
   "cell_type": "markdown",
   "metadata": {},
   "source": [
    "### **Overfitting** \n",
    "More parameters give a function stronger ability to fit data, however, by getting too large, the function behaves good on **test dataset** but poor on **validation dataset**.\n",
    "\n",
    "There are several methods to mitigate overfitting:\n",
    "* Provide more data, larger dataset can be used to train models that are more complicated\n",
    "* **Regularization**: Add a regularization term to punish parameters being too large, which makes the error function looks like: $$\\tilde{E}(\\mathbf{w}) = \\frac{1}{2}\\sum_{n = 1}^N\\{f(x_n, \\mathbf{w}) - y_n\\}^2 + \\frac{\\lambda}{2} ||\\mathbf{w}||^2 $$\n",
    "in which $\\lambda$ is a **hyperparameter** that we have to tune, if $\\lambda$ is too large, the parameters $\\mathbf{w}$ will be too small to fit the data."
   ]
  },
  {
   "cell_type": "markdown",
   "metadata": {},
   "source": [
    "## Probability Theory"
   ]
  },
  {
   "cell_type": "markdown",
   "metadata": {},
   "source": [
    "**Joint Probability:** $$p(X = x_i, Y = y_i) = \\frac{n_{ij}}{N}$$, in which $N = \\sum_{i, j} n_{ij}$\n",
    "\n",
    "So, we have $$p(X = x_i) = \\sum_j n_{ij} / N = \\sum_{j = 1}^L p(X = x_i, Y = y_j)$$\n",
    "\n",
    "And we finally get:\n",
    "* **Product Rule:** $p(X, Y) = p(Y \\mid X)p(X)$\n",
    "* **Sum Rule:** $p(X) = \\sum_{Y}p(X, Y)$"
   ]
  },
  {
   "cell_type": "markdown",
   "metadata": {},
   "source": [
    "From product rule and $p(X, Y) = p(Y, X)$, we have\n",
    "\n",
    "**Bayes' Theorem**: $$p(Y \\mid X) = \\frac{p(X \\mid Y)p(Y)}{p(X)}$$"
   ]
  },
  {
   "cell_type": "markdown",
   "metadata": {},
   "source": [
    "### Probability Density\n",
    "**Probability Density:** $$p(x \\in (a, b)) = \\int_a^b p(x)dx$$\n",
    "which satisfy the following conditions:\n",
    "* $p(x) \\geq 0$\n",
    "* $\\int_{-\\infty}^{\\infty} p(x)dx = 1$\n",
    "\n",
    "And $p_y(y) = p_x(x)\\left|\\frac{dx}{dy}\\right| = p_x(g(y))|g'(y)|$\n",
    "\n",
    "**Cumulative distrubution function:** $$P(z) = \\int^z_{-\\infty} p(x)dx$$\n",
    "\n",
    "### Expectation and Covariance\n",
    "**Expectation:** \n",
    "* $\\mathbb{E}[f] = \\sum_{x} p(x)f(x)$ if $p(x)$ is discrete distribution\n",
    "* $\\mathbb{E}[f] = \\int p(x)f(x)dx$ if $p(x)$ is continuous distribution\n",
    "\n",
    "and we can approximate it by\n",
    "$$\\mathbb{E}[f] \\simeq \\frac{1}{N}\\sum_{n = 1}^N f(x_n)$$\n",
    "\n",
    "**Conditional Expectation:**\n",
    "$$\\mathbb{E}_x[f \\mid y] = \\sum_{x}p(x \\mid y)f(x)$$\n",
    "\n",
    "**Variance:**\n",
    "$$\\mathrm{var}[f] = \\mathbb{E}[(f(x) - \\mathbb{E}[f(x)])^2] = \\mathbb{E}[f(x)^2] - \\mathbb{E}[f(x)]^2$$\n",
    "\n",
    "**Covariance:**\n",
    "$$\\mathrm{cov}[x, y] = \\mathbb{E}_{x, y}[\\{x - \\mathbb{E}[x]\\}\\{y - \\mathbb{E}[y]\\}] =  \\mathbb{E}_{x, y}[xy] -  \\mathbb{E}[x]\\mathbb{E}[y]$$\n",
    "\n",
    "and \n",
    "$$\\mathrm{cov}[\\mathbf{x}, \\mathbf{y}] = \\mathbb{E}_{\\mathbf{x}, \\mathbf{y}}[\\{\\mathbf{x} - \\mathbb{E}[\\mathbf{x}]\\}\\{\\mathbf{y}^T - \\mathbb{E}[\\mathbf{y}]\\}] =  \\mathbb{E}_{x, y}[\\mathbf{xy}^T] -  \\mathbb{E}[\\mathbf{x}]\\mathbb{E}[\\mathbf{y}^T]$$\n",
    "\n",
    "if $\\mathbf{x, y}$ are vectors"
   ]
  },
  {
   "cell_type": "markdown",
   "metadata": {},
   "source": [
    "### Beyasian Probability"
   ]
  },
  {
   "cell_type": "markdown",
   "metadata": {},
   "source": [
    "If we have a dataset $\\mathcal{D}$ and a set of parameters $\\mathbf{w}$ that are interdependent, then by Bayes' Theorem, we have\n",
    "$$p(\\mathbf{w} \\mid \\mathcal{D}) = \\frac{p(\\mathcal{D} \\mid \\mathbf{w})p(\\mathbf{w})}{p(\\mathcal{D})}$$"
   ]
  },
  {
   "cell_type": "markdown",
   "metadata": {},
   "source": [
    "We call $p(\\mathcal{D} \\mid \\mathbf{w})$ the likelihood function, Maximum Likelihood Approximation requires us to approximate $\\mathbf{w}$ that maximize likelihood function."
   ]
  },
  {
   "cell_type": "markdown",
   "metadata": {},
   "source": [
    "Consider Gaussian distribution\n",
    "$$\\mathcal{N}(x \\mid \\mu, \\sigma^2) = \\frac{1}{(2\\pi\\sigma^2)^{\\frac{1}{2}}} \\exp\\{-\\frac{1}{2\\sigma^2}(x - \\mu)^2\\}$$\n",
    "\n",
    "or\n",
    "\n",
    "$$\\mathcal{N}(\\mathbf{x} \\mid \\mu, \\sigma^2) = \\frac{1}{(2\\pi)^{\\frac{D}{2}}} \\frac{1}{|\\Sigma|^{\\frac{1}{2}}} \\exp\\{-\\frac{1}{2\\sigma^2}(\\mathbf{x} - \\mu)^T\\Sigma^{-1} (\\mathbf{x} - \\mu)\\}$$"
   ]
  },
  {
   "cell_type": "code",
   "execution_count": 3,
   "metadata": {},
   "outputs": [
    {
     "data": {
      "text/plain": [
       "[<matplotlib.lines.Line2D at 0x106879a90>]"
      ]
     },
     "execution_count": 3,
     "metadata": {},
     "output_type": "execute_result"
    },
    {
     "data": {
      "text/plain": [
       "<matplotlib.text.Text at 0x1066b7a90>"
      ]
     },
     "execution_count": 3,
     "metadata": {},
     "output_type": "execute_result"
    },
    {
     "data": {
      "text/plain": [
       "<matplotlib.text.Text at 0x1067a1518>"
      ]
     },
     "execution_count": 3,
     "metadata": {},
     "output_type": "execute_result"
    },
    {
     "data": {
      "image/png": "[encoded data removed]",
      "text/plain": [
       "<matplotlib.figure.Figure at 0x1066eb160>"
      ]
     },
     "metadata": {},
     "output_type": "display_data"
    }
   ],
   "source": [
    "x_gaussian = np.linspace(-3, 3, 100)\n",
    "def gaussian(x, mu, sigma):\n",
    "    return (1/np.sqrt(2 * np.pi * sigma ** 2)) * np.exp(-1 * (1 / (2 * sigma ** 2)) * (x - mu) ** 2)\n",
    "y_gaussian = gaussian(x_gaussian, 0, 1.0)\n",
    "plt.plot(x_gaussian, y_gaussian, 'r')\n",
    "plt.xlabel('x')\n",
    "plt.ylabel('Gaussian(0, 1)')"
   ]
  },
  {
   "cell_type": "markdown",
   "metadata": {},
   "source": [
    "In order to maximize $$p(\\mathbf{x} \\mid \\mu, \\sigma^2) = \\prod_{n = 1}^{N}\\mathcal{N}(x \\mid \\mu, \\sigma^2) = \\prod_{n = 1}^{N}\\frac{1}{(2\\pi\\sigma^2)^{\\frac{1}{2}}} \\exp\\{-\\frac{1}{2\\sigma^2}(x - \\mu)^2\\}$$ we can maximize log likelihood function $$\\ln \\mathcal{N}(x \\mid \\mu, \\sigma^2) = -\\frac{1}{2\\sigma^2} \\sum_{n = 1}^{N}(x_n - \\mu)^2 - \\frac{N}{2} \\ln \\sigma^2 - \\ln (2\\pi)$$"
   ]
  },
  {
   "cell_type": "markdown",
   "metadata": {},
   "source": [
    "We want to solve $$\\frac{\\partial \\mathcal{N}(x \\mid \\mu, \\sigma^2)}{\\partial \\mu} = 0 \\Rightarrow \\mu_{ML} = \\frac{1}{N} \\sum_{n = 1}^{N} x_n$$\n",
    "\n",
    "and \n",
    "\n",
    "$$\\frac{\\partial \\mathcal{N}(x \\mid \\mu, \\sigma^2)}{\\partial \\sigma^2} = 0 \\Rightarrow \\sigma^2_{ML} = \\frac{1}{N}\\sum_{n = 1}^{N}(x_n - \\mu_{ML})^2$$"
   ]
  },
  {
   "cell_type": "markdown",
   "metadata": {
    "collapsed": true
   },
   "source": [
    "There are flaws in maximum likelihood approximation, one of which is called **bias**, which means systematically underestimation of the variance.\n",
    "\n",
    "It is easy to prove that\n",
    "\n",
    "$$\\mathbb{E}[\\mu_{ML}] = \\mu$$\n",
    "\n",
    "and \n",
    "\n",
    "$$\\mathbb{E}[\\sigma^2_{ML}] = \\frac{N - 1}{N}\\sigma^2$$\n",
    "\n",
    "This means that when $N$ gets large enough, the bias is not a serious problem, but as the number of parameters increase, bias is still a very serious problem."
   ]
  },
  {
   "cell_type": "markdown",
   "metadata": {},
   "source": [
    "### Consider curve fitting by using probability\n",
    "Suppose for any $x$, $y$ follows gaussian distribution of $\\mu = f(x, w)$, then\n",
    "$$p(y \\mid x, w, \\beta) = \\mathcal{N}(t \\mid f(x, w, \\beta^{-1}))$$\n",
    "\n",
    "so we have likelihood function to be $$p(y \\mid x, w, \\beta) = \\prod_{n = 1}^N \\mathcal{N}(y_n \\mid f(x_n, w), \\beta^{-1})$$\n",
    "\n",
    "This gives us the log likelihood function $$\\ln p(y \\mid x, w, \\beta) = -\\frac{\\beta}{2} \\sum_{n = 1}^{N} \\{f(x_n, w) - y_n\\}^2 + \\frac{N}{2} \\ln \\beta - \\frac{N}{2} \\ln (2\\pi)$$\n",
    "\n",
    "Then maximize likelihood function is equivalent to minimize \n",
    "$$E(w) = \\frac{1}{2}\\sum_{n = 1}^N \\{f(x_n, w) - y_n\\}^2$$\n",
    "\n",
    "Then we consider the prior distribution of $\\mathbf{w}$ follows $$p(\\mathbf{w \\mid \\alpha}) = \\mathcal{N}(\\mathbf{w} \\mid \\mathbf{0}, \\alpha^{-1}\\mathbf{I}) = (\\frac{\\alpha}{2\\pi})^{\\frac{M + 1}{2}} \\exp\\{-\\frac{\\alpha}{2}\\mathbf{w}^T\\mathbf{w}\\}$$ \n",
    "\n",
    "By Bayes' Theorem, we have that\n",
    "\\begin{align}\n",
    "    &p(\\mathbf{w} \\mid \\mathbf{x}, \\mathbf{y},\\alpha,\\beta) \\propto p(\\mathbf{y} \\mid \\mathbf{x}, \\mathbf{w},\\beta)p(w \\mid \\alpha)\\nonumber\\\\\n",
    "    &\\phantom{p(\\mathbf{w} \\mid \\mathbf{x}, \\mathbf{y},\\alpha,\\beta)} = (\\prod_{n = 1}^N \\mathcal{N}(y_n \\mid f(x_n, w), \\beta^{-1}))((\\frac{\\alpha}{2\\pi})^{\\frac{M + 1}{2}} \\exp\\{-\\frac{\\alpha}{2}\\mathbf{w}^T\\mathbf{w})\n",
    "\\end{align}\n",
    "\n",
    "So we can maximize\n",
    "$$\\ln p(\\mathbf{w} \\mid \\mathbf{x}, \\mathbf{y},\\alpha,\\beta) = -\\frac{\\beta}{2} \\sum_{n = 1}^{N} \\{f(x_n, w) - y_n\\}^2 + \\frac{N}{2} \\ln \\beta - \\frac{N}{2} \\ln (2\\pi) + \\frac{M + 1}{2} \\frac{\\alpha}{2\\pi} - \\frac{\\alpha}{2}w^T w$$\n",
    "\n",
    "which is equavalent to minimize\n",
    "$$\\tilde{E}(w, \\lambda) = \\frac{1}{2} \\sum_{n = 1}^{N} \\{f(x_n, w) - y_n\\}^2 + \\frac{\\lambda}{2}w^Tw, \\lambda = \\frac{\\alpha}{\\beta}$$\n",
    "\n",
    "which gives us the regularization term."
   ]
  },
  {
   "cell_type": "markdown",
   "metadata": {},
   "source": [
    "## Curse of Dimension\n",
    "Sometimes we will have to deal with multiple features which makes the input space a high-demension space. As a result, the parameters needed increase rapidly. For a m-order polynomial, the growth in the number of coefficients is like $D^M$.\n",
    "\n",
    "Also consider a circle in high-dimensional space, there is \n",
    "$$\\frac{V_D(1) - V_D(1 - \\varepsilon)}{V_D(1)} = 1 - (1 - \\varepsilon)^D$$\n",
    "\n",
    "which means that in high-dimensional space, the volume of a sphere is concentrated in a thin shell near the surface."
   ]
  },
  {
   "cell_type": "code",
   "execution_count": 4,
   "metadata": {},
   "outputs": [
    {
     "data": {
      "text/plain": [
       "[<matplotlib.lines.Line2D at 0x10691ad68>]"
      ]
     },
     "execution_count": 4,
     "metadata": {},
     "output_type": "execute_result"
    },
    {
     "data": {
      "text/plain": [
       "[<matplotlib.lines.Line2D at 0x106882550>]"
      ]
     },
     "execution_count": 4,
     "metadata": {},
     "output_type": "execute_result"
    },
    {
     "data": {
      "text/plain": [
       "[<matplotlib.lines.Line2D at 0x10698bda0>]"
      ]
     },
     "execution_count": 4,
     "metadata": {},
     "output_type": "execute_result"
    },
    {
     "data": {
      "text/plain": [
       "[<matplotlib.lines.Line2D at 0x106998668>]"
      ]
     },
     "execution_count": 4,
     "metadata": {},
     "output_type": "execute_result"
    },
    {
     "data": {
      "text/plain": [
       "<matplotlib.legend.Legend at 0x1068a4828>"
      ]
     },
     "execution_count": 4,
     "metadata": {},
     "output_type": "execute_result"
    },
    {
     "data": {
      "text/plain": [
       "(0, 1)"
      ]
     },
     "execution_count": 4,
     "metadata": {},
     "output_type": "execute_result"
    },
    {
     "data": {
      "text/plain": [
       "(0, 1)"
      ]
     },
     "execution_count": 4,
     "metadata": {},
     "output_type": "execute_result"
    },
    {
     "data": {
      "image/png": "[encoded data removed]",
      "text/plain": [
       "<matplotlib.figure.Figure at 0x106899080>"
      ]
     },
     "metadata": {},
     "output_type": "display_data"
    }
   ],
   "source": [
    "x_dimension = np.linspace(0, 1, 100)\n",
    "ys = [1 - (1 - x_dimension)** i for i in [1, 2, 5, 20]]\n",
    "for y, i in zip(ys, [1, 2, 5, 20]):\n",
    "    plt.plot(x_dimension, y, label='D=' + str(i))\n",
    "plt.legend()\n",
    "plt.xlim(0, 1)\n",
    "plt.ylim(0, 1)\n",
    "plt.axes().set_aspect('equal')"
   ]
  },
  {
   "cell_type": "markdown",
   "metadata": {},
   "source": [
    "## Informational Theory"
   ]
  },
  {
   "cell_type": "markdown",
   "metadata": {},
   "source": [
    "**Amount of Information:**\n",
    "    The amount of information $h(x)$ needs to satisfy the following requirements:\n",
    "* $h(x)$ is a monotonic function of $p(x)$\n",
    "* $h(x, y) = h(x)  + h(y)$ if two events are independent\n",
    "* $h(x) \\geq 0$\n",
    "\n",
    "So we get that $h(x) = -\\log_2 p(x)$\n",
    "\n",
    "And **entropy**: $H[x] = \\mathbb{E}[h] = -\\sum_x p(x)\\log_2 p(x)$\n",
    "\n",
    "**Noiseless Coding Theorem:** Entropy is the lower bound of the number of bits needed to transmit a random variable.\n",
    "\n",
    "**Differential entropy:** $H[\\mathbf{x}] = -\\int p(\\mathbf{x}) \\ln p(\\mathbf{x})d\\mathbf{x}$\n",
    "\n",
    "$H[\\mathbf{x, y}] = H[\\mathbf{y} \\mid \\mathbf{x}] + H[\\mathbf{x}]$\n",
    "\n",
    "**Relative Entropy(KL Divergence):** \n",
    "$$\\mathrm{KL}(p || q) = -\\int p(x)\\ln \\left\\{\\frac{q(x)}{p(x)}\\right\\}dx$$\n",
    "\n",
    "Note: $\\mathrm{KL}(p \\| q) \\neq \\mathrm{KL}(q \\| p)$"
   ]
  },
  {
   "cell_type": "code",
   "execution_count": null,
   "metadata": {
    "collapsed": true
   },
   "outputs": [],
   "source": []
  }
 ],
 "metadata": {
  "kernelspec": {
   "display_name": "Python 3",
   "language": "python",
   "name": "python3"
  },
  "language_info": {
   "codemirror_mode": {
    "name": "ipython",
    "version": 3
   },
   "file_extension": ".py",
   "mimetype": "text/x-python",
   "name": "python",
   "nbconvert_exporter": "python",
   "pygments_lexer": "ipython3",
   "version": "3.6.2"
  }
 },
 "nbformat": 4,
 "nbformat_minor": 2
}
