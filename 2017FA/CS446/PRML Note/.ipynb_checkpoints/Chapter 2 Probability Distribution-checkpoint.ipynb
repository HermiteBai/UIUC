{
 "cells": [
  {
   "cell_type": "markdown",
   "metadata": {
    "collapsed": true
   },
   "source": [
    "# Probability Distribution\n",
    "## Binary Variable\n",
    "    \n",
    "**Bernoulli Distribution:** $\\mathrm{Bern}(x \\mid \\mu) = \\mu^x(1 - \\mu)^{1 - x}$\n",
    "* $\\mathbb{E}[x] = \\mu$\n",
    "* $\\mathrm{var}[x] = \\mu(1 - \\mu)$\n",
    "* Likelihood Function: $$p(\\mathcal{D} | \\mu) = \\prod_{n = 1}^N \\mu^{x_n}(1 - \\mu)^{1 - x_n}$$\n",
    "\n",
    "So $\\mu_{ML} = \\frac{m}{N}$\n",
    "\n",
    "**Binomial Distribution:** $\\mathrm{Bin}(m \\mid N, \\mu) = \\binom{N}{m} \\mu^m(1-\\mu)^{N - m}$"
   ]
  },
  {
   "cell_type": "code",
   "execution_count": 18,
   "metadata": {
    "collapsed": false
   },
   "outputs": [
    {
     "data": {
      "text/plain": [
       "<matplotlib.text.Text at 0x1131f0c18>"
      ]
     },
     "execution_count": 18,
     "metadata": {},
     "output_type": "execute_result"
    },
    {
     "data": {
      "image/png": "[encoded data removed]",
      "text/plain": [
       "<matplotlib.figure.Figure at 0x1131f6400>"
      ]
     },
     "metadata": {},
     "output_type": "display_data"
    }
   ],
   "source": [
    "import numpy as np\n",
    "import matplotlib.pyplot as plt\n",
    "%matplotlib inline\n",
    "samples = np.random.binomial(10, 0.25, 100000)\n",
    "plt.hist(samples, normed=True, range=(0, 10))\n",
    "plt.xlabel('m')"
   ]
  },
  {
   "cell_type": "markdown",
   "metadata": {},
   "source": [
    "It is easy to prove that binomial has:\n",
    "* $\\mathbb{E}[m] = N\\mu$\n",
    "* $\\mathrm{var}[m] = N\\mu(1 - \\mu)$"
   ]
  },
  {
   "cell_type": "markdown",
   "metadata": {},
   "source": [
    "**Beta Distribution:** $$\\mathrm{Beta}(\\mu \\mid a, b) = \\frac{\\Gamma(a + b)}{\\Gamma(a)\\Gamma(b)}\\mu^{a - 1}(1 - \\mu)^{b - 1}$$\n",
    "\n",
    "$$\\Gamma(x) = \\int^{\\infty}_0 u^{x - 1}e^{-u}du$$\n",
    "\n",
    "* $\\mathbb{E}[\\mu] = \\frac{a}{a + b}$\n",
    "* $\\mathrm{var}[\\mu] = \\frac{ab}{(a + b)^2(a + b + 1)}$"
   ]
  },
  {
   "cell_type": "markdown",
   "metadata": {},
   "source": [
    "## Polynomial Variable\n",
    "If we use $\\mu_k$ to represent the probability that $x_k = 1$, then\n",
    "$$p(\\mathbf{x} \\mid \\mathbf{\\mu}) = \\prod_{k = 1}^K \\mu_k^{x_k}$$\n",
    "\n",
    "so\n",
    "\n",
    "$$\\mathbb{E}[\\mathbf{x} \\mid \\mathbf{\\mu}] = \\sum_{\\mathbf{x}} p(\\mathbf{x} \\mid \\mathbf{\\mu}) = \\mathbf{\\mu}$$"
   ]
  },
  {
   "cell_type": "markdown",
   "metadata": {},
   "source": [
    "### Gaussian Distribution\n",
    "$$\\mathcal{N}(x \\mid \\mu, \\sigma^2) = \\frac{1}{(2\\pi\\sigma^2)^{\\frac{1}{2}}} \\exp\\{-\\frac{1}{2\\sigma^2}(x - \\mu)^2\\}$$\n",
    "\n",
    "or\n",
    "\n",
    "$$\\mathcal{N}(\\mathbf{x} \\mid \\mu, \\sigma^2) = \\frac{1}{(2\\pi)^{\\frac{D}{2}}} \\frac{1}{|\\Sigma|^{\\frac{1}{2}}} \\exp\\{-\\frac{1}{2\\sigma^2}(\\mathbf{x} - \\mu)^T\\Sigma^{-1} (\\mathbf{x} - \\mu)\\}$$\n",
    "\n",
    "so\n",
    "\n",
    "* $\\mathbb{E}[\\mathbf{x}] = \\mathbf{\\mu}$\n",
    "* $\\mathbb{E}[\\mathbf{xx}^T] = \\mathbf{\\mu\\mu}^T + \\mathbf{\\Sigma}$\n",
    "* $\\mathrm{var}[\\mathbf{x}] = \\mathbf{\\Sigma}$, which is called the covariance matrix.\n",
    "\n",
    "Since $\\Sigma$ has $\\frac{D(D+1)}{2}$ free parameters, $\\mu$ has D free parameters, so we usually only consider **diagonal covariance matrix** $\\Sigma = \\mathrm{diag}(\\sigma^2_i)$ or **isotropic covariance matrix** $\\Sigma = \\sigma^2\\mathbf{I}$\n",
    "\n",
    "### Conditional Gaussian Distribution\n",
    "Suppose $\\mathbf{x}$ is a D-dimension vector under Gaussian Distribution, then divide $\\mathbf{x}$ into two disjoint subsets. So\n",
    "$$\\mathbf{x} = \\binom{\\mathbf{x}_a}{\\mathbf{x}_b}$$\n",
    "$$\\mathbf{\\mu} = \\binom{\\mathbf{\\mu}_a}{\\mathbf{\\mu}_b}$$\n",
    "$$\\Sigma = \\begin{pmatrix}\n",
    "               \\Sigma_{aa} & \\Sigma_{ab}\\\\\n",
    "               \\Sigma_{ba} & \\Sigma_{bb}\\\\\n",
    "           \\end{pmatrix}$$\n",
    "In many cases, it is convenient to use **precision matrix** $$\\Lambda = \\Sigma^{-1}$$\n",
    "\n",
    "So $$\\mu_{a \\mid b} = \\mu_a + \\Sigma_{ab}\\Sigma^{-1}_{bb}(\\mathbf{x}_b - \\mu_a)$$\n",
    "\n",
    "$$\\Sigma_{a \\mid b} = \\Sigma_{aa} + \\Sigma_{ab}\\Sigma^{-1}_{bb}\\Sigma_{ba}$$\n",
    "\n",
    "### Marginal Gaussian Distribution\n",
    "$$p(\\mathbf{x}_a) = \\int p(\\mathbf{x}_a, \\mathbf{x}_b)d\\mathbf{x}_b$$\n",
    "* $\\mathbb{E}[\\mathbf{x}_a] = \\mathbf{\\mu}_a$\n",
    "* $\\mathrm{cov}[\\mathbf{x}_a] = \\Sigma_{aa}$\n",
    "\n",
    "### Mixture Gaussian Distribution\n",
    "\n",
    "Since Gaussian distribution only gives one peak, which sometimes does not reflect the real condition of given datasets, so we can use the linear combination of Gaussian distributions.\n",
    "\n",
    "$$p(\\mathbf{x}) = \\sum_{k = 1}^K \\pi_k\\mathcal{N}(\\mathbf{x} \\mid \\mu_k, \\Sigma_k) = \\sum_{k = 1}^K p(k)p(\\mathbf{x} \\mid k)$$"
   ]
  },
  {
   "cell_type": "markdown",
   "metadata": {
    "collapsed": true
   },
   "source": [
    "## Nonparametric Methods\n",
    "\n",
    "Suppose there is a unknown probability density distribution in D dimension $p(\\mathbf{x})$. Consider a small region $\\mathcal{R}$ that contains $\\mathbf{x}$, whose mass is \n",
    "$$P = \\int_{\\mathcal{R}}p(\\mathbf{x})d\\mathbf{x}$$\n",
    "\n",
    "Suppose there are $N$ samples, then \n",
    "$$\\mathrm{Bin}(K \\mid N, P) = \\binom{N}{K}P^K(1 - P)^{N - K}$$\n",
    "\n",
    "which has\n",
    "* $\\mathbb{E}[\\frac{K}{N}] = P$\n",
    "* $\\mathrm{var}[\\frac{K}{N}] = \\frac{P(1 - P)}{N}$\n",
    "\n",
    "gives that there will be a peak near mean value when there is a large $N$, and $K \\simeq NP$.\n",
    "\n",
    "We also suppose that $P \\simeq p(\\mathbf{x})V$, so our approximation of density distribution has form $p(\\mathbf{x}) = \\frac{K}{NV}$. This means that $\\mathcal{R}$ should be large enough to let binomial distribution reach the peak but should also be small enough so that the density is approximately a constant.\n",
    "\n",
    "There are two ways to use this formula:\n",
    "* **Kernel Method:** Keep $V$ unchanged and determine $K$ from data\n",
    "* **K Nearest Neighbor:** Keep $K$ unchanged and determine $V$ from data\n"
   ]
  },
  {
   "cell_type": "markdown",
   "metadata": {},
   "source": [
    "### Kernel Method\n",
    "Define $$k(u) = \\begin{cases}\n",
    "                    1 & |u_i| \\leq \\frac{1}{2}, i = 1, \\cdots, D\\\\\n",
    "                    0 & \\mathrm{othersize}\n",
    "                \\end{cases}$$\n",
    "\n",
    "which is an example of **kernel function**.\n",
    "\n",
    "The number of data in cube with center $\\mathbf{x}$ and length of edge to be $h$ is:\n",
    "    $$K = \\sum_{n = 1}^{N} k\\left(\\frac{\\mathbf{x} - \\mathbf{x}_n}{h}\\right)$$\n",
    "    \n",
    "So $$p(\\mathbf{x}) = \\frac{1}{N} \\sum_{n = 1}^{N} \\frac{1}{h^D} k\\left(\\frac{\\mathbf{x} - \\mathbf{x}_n}{h}\\right)$$\n",
    "\n",
    "To get a more smooth result, we can choose to use Gaussian kernel function and get\n",
    "$$p(\\mathbf{x}) = \\frac{1}{N} \\sum_{n = 1}^{N} \\frac{1}{(2\\pi h^2)^{\\frac{D}{2}}} \\exp\\left\\{-\\frac{||\\mathbf{x} - \\mathbf{x}_n||^2}{2h^2}\\right\\}$$\n",
    "\n",
    "Note that we can choose any $k(\\mathbf{u})$ if:\n",
    "\\begin{align}\n",
    "    &k(\\mathbf{u}) \\geq 0\\nonumber\\\\\n",
    "    &\\int k(\\mathbf{u})d\\mathbf{u} = 1\\nonumber\n",
    "\\end{align}"
   ]
  },
  {
   "cell_type": "markdown",
   "metadata": {},
   "source": [
    "### K Nearest Neighbor\n",
    "Suppose we have a dataset that $N_k$ data belongs to class $C_k$, the total number is $N$. If we want to catergorize a new $\\mathbf{x}$. Then we draw a sphere centered at $\\mathbf{x}$ that contains $K$ data points. Suppose the volume of the sphere is $V$, so\n",
    "$$p(\\mathbf{x} \\mid C_k) = \\frac{K_k}{N_kV}$$\n",
    "\n",
    "$$p(\\mathbf{x}) = \\frac{K}{NV}$$\n",
    "\n",
    "and class prior is\n",
    "\n",
    "$$p(C_k) = \\frac{N_k}{N}$$\n",
    "\n",
    "so\n",
    "\n",
    "$$p(C_k \\mid x) = \\frac{p(\\mathbf{x} \\mid C_k)p(C_k)}{p(\\mathbf{x})} = \\frac{K_k}{K}$$"
   ]
  },
  {
   "cell_type": "code",
   "execution_count": null,
   "metadata": {
    "collapsed": true
   },
   "outputs": [],
   "source": []
  }
 ],
 "metadata": {
  "kernelspec": {
   "display_name": "Python 3",
   "language": "python",
   "name": "python3"
  },
  "language_info": {
   "codemirror_mode": {
    "name": "ipython",
    "version": 3
   },
   "file_extension": ".py",
   "mimetype": "text/x-python",
   "name": "python",
   "nbconvert_exporter": "python",
   "pygments_lexer": "ipython3",
   "version": "3.6.0"
  }
 },
 "nbformat": 4,
 "nbformat_minor": 2
}
