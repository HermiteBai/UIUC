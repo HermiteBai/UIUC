{
 "cells": [
  {
   "cell_type": "markdown",
   "metadata": {},
   "source": [
    "# Linear Model of Classification\n",
    "\n",
    "Generally, we consider a hyper-plane to be a decision surface\n",
    "\n",
    "$$z = \\mathbf{w}^T\\mathbf{x} + w_0$$\n",
    "\n",
    "To introduce non-linear component, we can use activation function \n",
    "$$y(\\mathbf{x}) = f(\\mathbf{w}^T\\mathbf{x} + w_0)$$\n",
    "\n",
    "## Discriminant Function\n",
    "### Two classes\n",
    "\n",
    "Linear discriminant has the most simple form of \n",
    "$$y(\\mathbf{x}) = \\mathbf{w}^T\\mathbf{x} + w_0$$\n",
    "\n",
    "then the distance from original point to discriminant plane is \n",
    "$$\\frac{\\mathbf{w}^T\\mathbf{x}}{||\\mathbf{w}||} = -\\frac{w_0}{||\\mathbf{x}||}$$\n",
    "\n",
    "and \n",
    "\n",
    "$$\\mathbf{x} = \\mathbf{x}_{\\bot} + r\\frac{\\mathbf{w}}{||\\mathbf{w}||}$$\n",
    "\n",
    "so\n",
    "\n",
    "$$r = \\frac{y(\\mathbf{x})}{||\\mathbf{w}||}$$\n",
    "\n",
    "### Multiple classes\n",
    "There are several ways to extend two classes algorithm to multiple classes:\n",
    "* Use $K - 1$ classifiers to solve $k - 1$ one-versus-the-rest classification problems\n",
    "* Use $\\frac{K(K - 1)}{2}$ classifiers to solve $\\frac{K(K - 1)}{2}$ one-versus-one classification problems.\n",
    "* Use a K classes discriminant function by using $K$ linear functions of form\n",
    "$$y_k(\\mathbf{x}) = \\mathbf{w}^T_k\\mathbf{x} + w_{k0}$$\n",
    "\n",
    "Then if for all $j \\ne k$ there is $y_k > y_i$, the $\\mathbf{x}$ will be classify to class $C_k$.\n",
    "\n",
    "Then the hyperplanes has form $$(\\mathbf{w}_k - \\mathbf{w}_j)^T + (w_{k0} - w_{j0}) = 0$$"
   ]
  },
  {
   "cell_type": "markdown",
   "metadata": {},
   "source": [
    "There are several ways to learn a discriminant function:\n",
    "* Least Mean Sum for Classification\n",
    "* Fisher linear discriminant function\n",
    "* Perceptron\n",
    "\n",
    "### Least Mean Sum for Classification\n",
    "\n",
    "Suppose we describe class $C_k$ by using linear model\n",
    "$$y_k(\\mathbf{x}) = \\mathbf{w}^T_k\\mathbf{x}_{k0}$$\n",
    "\n",
    "or\n",
    "\n",
    "$$\\mathbf{y}(\\mathbf{x}) = \\tilde{\\mathbf{W}}^T\\tilde{\\mathbf{x}}$$\n",
    "\n",
    "then we have error function\n",
    "\n",
    "$$E_D(\\tilde{\\mathbf{W}}) = \\frac{1}{2}Tr\\{(\\tilde{\\mathbf{X}}\\tilde{\\mathbf{W}} - \\mathbf{T})^T(\\tilde{\\mathbf{X}}\\tilde{\\mathbf{W}} - \\mathbf{T})\\}$$\n",
    "\n",
    "so $$\\tilde{\\mathbf{W}} = (\\tilde{\\mathbf{X}})^{\\dagger}\\mathbf{T}$$\n",
    "\n",
    "then we get the discriminant function\n",
    "$$\\mathbf{y}(\\mathbf{x}) = \\mathbf{T}^T(\\tilde{\\mathbf{X}})^{\\dagger} \\tilde{\\mathbf{x}}$$"
   ]
  },
  {
   "cell_type": "markdown",
   "metadata": {},
   "source": [
    "### Fisher Linear Discriminant function\n",
    "\n",
    "Consider the occasion of two classes first.\n",
    "\n",
    "Suppose we have $y = \\mathbf{w}^T\\mathbf{x}$, let those $x$ that $y \\geq -w_0$ to be class $C_1$ and the rest to be $C_2$, then we have $$\\mathbf{m}_1 = \\frac{1}{N_1}\\sum_{n \\in C_1}\\mathbf{x}_n, \\mathbf{m}_2 = \\frac{1}{N_2}\\sum_{n \\in C_2}\\mathbf{x}_n$$\n",
    "\n",
    "then we can measure the extent two classes are seperated by maximizing\n",
    "$$m_2 - m_1 = \\mathbf{w}^T(\\mathbf{m}_2 - \\mathbf{m}_1)$$\n",
    "\n",
    "while restraining $||\\mathbf{w}|| = 1$. Since by using this method, when the covariance matrix and diagnalized matrix have too much differences, there will be a large overlapping on the projection to the line that connects the means of two classes.\n",
    "\n",
    "Thus, Fisher brought up the idea to maximize a function to make the gap between two classes larger with make the variance in each class smaller, so that it minimize the overlapping between classes.\n",
    "\n",
    "Denote the in-class variance by $$s_k^2 = \\sum_{n \\in C_k}(y_n - m_k)^2$$\n",
    "\n",
    "define $$J(\\mathbf{w}) = \\frac{(m_2 - m_1)^2}{s_1^2 + s_2^2}$$\n",
    "\n",
    "so\n",
    "\n",
    "$$J(\\mathbf{w}) = \\frac{\\mathbf{w^TS_Bw}}{w^TS_Ww}$$ in which, the between-class covariance matrix is\n",
    "\n",
    "$$\\mathbf{S_B} = (\\mathbf{m_2 - m_1})(\\mathbf{m_2 - m_1})^T$$\n",
    "\n",
    "and the within-class covariance matrix is\n",
    "$$\\mathbf{S_W} = \\sum_{n \\in C_1}(\\mathbf{m_n - m_1})(\\mathbf{m_n - m_1})^T + \\sum_{n \\in C_2}(\\mathbf{m_n - m_2})(\\mathbf{m_n - m_2})^T$$\n",
    "\n",
    "then by calculating the derivative respect to $\\mathbf{w}$, we get \n",
    "$$(\\mathbf{w^TS_Bw})\\mathbf{S_Ww} = (\\mathbf{w^TS_Ww})\\mathbf{S_Bw}$$\n",
    "\n",
    "which gives\n",
    "$$\\mathbf{w} \\propto \\mathbf{S}_W^{-1}(\\mathbf{w}_2 - \\mathbf{w}_1)$$"
   ]
  },
  {
   "cell_type": "markdown",
   "metadata": {},
   "source": [
    "### Perceptron\n",
    "\n",
    "Consider a nonlinear activation function\n",
    "$$f(a) = \n",
    "\\begin{cases}\n",
    "    +1 & a \\geq 0\\\\\n",
    "    -1 & a < 0\n",
    "\\end{cases}$$\n",
    "\n",
    "that maps $\\mathbf{w}^T\\phi(\\mathbf{x})$ to $\\{-1, +1\\}$.\n",
    "\n",
    "So we can define a error function $$E_P(\\mathbf{w}) = -\\sum_{n \\in \\mathcal{M}}\\mathbf{w}^T\\phi_nt_n$$\n",
    "\n",
    "so that we can use SGD to minimize the error function by\n",
    "\n",
    "$$\\mathbf{w}^{\\tau + 1} = \\mathbf{w}^{\\tau} - \\eta\\nabla E_P(\\mathbf{w}) = \\mathbf{w}^{\\tau} - \\eta\\phi_nt_n$$"
   ]
  },
  {
   "cell_type": "code",
   "execution_count": null,
   "metadata": {
    "collapsed": false
   },
   "outputs": [],
   "source": [
    "import numpy as np\n",
    "import numpy.linalg as la\n",
    "import matplotlib.pyplot as plt\n",
    "%matplotlib inline\n",
    "def f(x, y):\n",
    "    return x ** 3 + 10 * x ** 2 + 5 * y ** 2 + 5 * x * y\n",
    "\n",
    "def delta(x, y):\n",
    "    return np.array([3 * x ** 2 + 20 * x + 5 * y, 10 * y + 5 * x])\n",
    "\n",
    "alpha = 0.085\n",
    "x = np.linspace(-10, 10, 100)\n",
    "y = np.linspace(-10, 10, 100)\n",
    "X,Y = np.meshgrid(x, y)\n",
    "plt.contour(X, Y, f(X, Y), 40, alpha=1)\n",
    "#plt.clabel(C, inline=True, fontsize=10)\n",
    "plt.xticks(())\n",
    "plt.yticks(())\n",
    "plt.axes().set_aspect('equal')\n",
    "\n",
    "initX = 2\n",
    "initY = 7\n",
    "init = np.array([initX, initY])\n",
    "path = []\n",
    "path.append(init)\n",
    "oldinit = init.copy()\n",
    "delta0 = delta(oldinit[0], oldinit[1])\n",
    "while la.norm(delta0) >= 1e-6:\n",
    "    newinit = oldinit - alpha * delta(oldinit[0], oldinit[1])\n",
    "    path.append(newinit)\n",
    "    plt.plot(np.array([oldinit[0], newinit[0]]), np.array([oldinit[1], newinit[1]]), 'b-')\n",
    "    oldinit = newinit.copy()\n",
    "    delta0 = delta(oldinit[0], oldinit[1])\n",
    "    \n",
    "for p in path:\n",
    "    plt.plot(p[0], p[1], 'b-')\n",
    "print(len(path))"
   ]
  },
  {
   "cell_type": "markdown",
   "metadata": {
    "collapsed": true
   },
   "source": [
    "## Probabilistic Generative Model\n",
    "\n",
    "Consider the problem of two classes first. Then the posterior probability of class $C_1$ is \n",
    "\n",
    "$$p(C_1 \\mid \\mathbf{x}) = \\frac{p(\\mathbf{x} \\mid C_1)}{p(\\mathbf{x} \\mid C_1)p(C_1) + p(\\mathbf{x} \\mid C_2)p(C_2)} = \\frac{1}{1 + \\exp(-a)} = \\sigma(a)$$\n",
    "\n",
    "in which, $$a = \\ln \\frac{p(\\mathbf{x} \\mid C_1)p(C_1)}{p(\\mathbf{x} \\mid C_2)p(C_2)}$$\n",
    "\n",
    "and we have **Logistic Sigmoid Function:** \n",
    "$$\\sigma(a) = \\frac{1}{1 + \\exp(-a)}$$\n",
    "\n",
    "it is easy to prove that:\n",
    "\n",
    "* $\\sigma(-a) = 1 - \\sigma(a)$\n",
    "* Logistic Sigmoid Function's inverse function is **logit function**:\n",
    "$$a = \\ln \\left(\\frac{\\sigma}{1 - \\sigma}\\right)$$\n",
    "\n",
    "For occasion of $K > 2$ classes we have **softmax function**:\n",
    "$$p(C_k \\mid \\mathbf{x}) = \\frac{p(\\mathbf{x} \\mid C_k)p(C_k)}{\\sum_{j}p(\\mathbf{x} \\mid C_j)p(C_j)} = \\frac{\\exp(a_k)}{\\sum_j \\exp(a_j)}$$\n",
    "\n"
   ]
  },
  {
   "cell_type": "code",
   "execution_count": 16,
   "metadata": {
    "collapsed": false
   },
   "outputs": [
    {
     "data": {
      "text/plain": [
       "<matplotlib.text.Text at 0x112d4b3c8>"
      ]
     },
     "execution_count": 16,
     "metadata": {},
     "output_type": "execute_result"
    },
    {
     "data": {
      "image/png": "[encoded data removed]",
      "text/plain": [
       "<matplotlib.figure.Figure at 0x112ca8b38>"
      ]
     },
     "metadata": {},
     "output_type": "display_data"
    }
   ],
   "source": [
    "x = np.linspace(-10, 10, 100)\n",
    "def sigmoid(x):\n",
    "    return 1/(1 + np.exp(-x))\n",
    "y = sigmoid(x)\n",
    "plt.grid()\n",
    "plt.plot(x, y, 'b')\n",
    "plt.xlabel('x')\n",
    "plt.ylabel('y')"
   ]
  },
  {
   "cell_type": "markdown",
   "metadata": {
    "collapsed": true
   },
   "source": [
    "Suppose there are two classes under Gaussian-like distribution, and $p(C_1) = \\pi$ and $p(C_2) = 1 - \\pi$, so\n",
    "$$p(\\mathbf{x}_n, C_1) = p(C_1)p(\\mathbf{x}_n \\mid C_1) = \\pi\\mathcal{N}(\\mathbf{x}_n \\mid \\mu_1, \\Sigma)$$\n",
    "\n",
    "$$p(\\mathbf{x}_n, C_2) = p(C_2)p(\\mathbf{x}_n \\mid C_2) = (1 - \\pi)\\mathcal{N}(\\mathbf{x}_n \\mid \\mu_2, \\Sigma)$$\n",
    "\n",
    "so the likelihood function is $$p(\\mathbf{t, X} \\mid \\pi, \\mu_1, \\mu_2, \\Sigma) = \\prod_{n = 1}^N [\\pi\\mathcal{N}(\\mathbf{x}_n \\mid \\mu_1, \\Sigma)]^{t_n}[(1 - \\pi)\\mathcal{N}(\\mathbf{x}_n \\mid \\mu_2, \\Sigma)]^{1 - t_n}$$\n",
    "\n",
    "then we want to maximize the part of logit likelihood function that is relavant to $\\pi$, which is\n",
    "\n",
    "$$\\sum_{n = 1}^N \\{t_n\\ln\\pi + (1 - t_n)\\ln(1 - \\pi)\\}$$\n",
    "\n",
    "so we get $$\\pi = \\frac{1}{N}\\sum_{n = 1}^N t_n = \\frac{N_1}{N_1 + N_2}$$\n",
    "\n",
    "or maximize $$\\sum_{n = 1}^N t_n \\ln \\mathcal{N}(\\mathbf{x}_n \\mid \\mathbf{\\mu}_1, Sigma) = \\frac{1}{2}\\sum_{n = 1}^Nt_n(\\mathbf{x}_n - \\mathbf{\\mu}_1)^T\\Sigma^{-1}(\\mathbf{x}_n - \\mathbf{\\mu}_1)$$ respect to $mu_1$, so we get\n",
    "\n",
    "$$\\mu_1 = \\frac{1}{N_1}\\sum_{n = 1}^N t_n\\mathbf{x}_n$$\n",
    "\n",
    "Similarly,\n",
    "\n",
    "$$\\mu_2 = \\frac{1}{N_2}\\sum_{n = 1}^N t_n\\mathbf{x}_n$$\n",
    "\n",
    "or when we want to maximize $$-\\frac{N}{2}\\ln|\\Sigma| - \\frac{N}{2}Tr\\{\\Sigma^{-1}\\mathbf{S}\\}$$\n",
    "\n",
    "in which $$\\mathbf{S} = \\frac{N_1}{N}\\mathbf{S_1} + \\frac{N_2}{N}\\mathbf{S_2}$$\n",
    "\n",
    "that $$\\mathbf{S}_k = \\frac{1}{N_k} \\sum_{n \\in C_k}(\\mathbf{x}_n - \\mu_k)(\\mathbf{x}_n - \\mu_k)^T$$\n",
    "\n",
    "so $\\Sigma = S$."
   ]
  },
  {
   "cell_type": "markdown",
   "metadata": {},
   "source": [
    "## Probabilistic Discriminative Model"
   ]
  },
  {
   "cell_type": "markdown",
   "metadata": {},
   "source": [
    "### Logistic Regression\n",
    "\n",
    "If we have dataset $t_n, \\phi_n$, with likelihood function $$p(\\mathbf{t \\mid w}) = \\prod_{n = 1}^N y_n^{t_n}\\{1 - y_n\\}^{1 - t_n}$$\n",
    "\n",
    "so by taking the logits, we have **cross-entropy error function**\n",
    "$$E(\\mathbf{w}) = -\\sum_{n = 1}^N \\{t_n\\ln y_n + (1 - t_n)\\ln (1 - y_n)\\}$$\n",
    "\n",
    "in which, $$y_n = \\sigma(\\mathbf{w}^T\\phi_n)$$\n",
    "\n",
    "so that $$\\nabla E(\\mathbf{w}) = \\sum_{n = 1}^N (y_n - t_n)\\phi_n$$"
   ]
  },
  {
   "cell_type": "code",
   "execution_count": 4,
   "metadata": {
    "collapsed": false
   },
   "outputs": [],
   "source": [
    "import pandas as pd\n",
    "import numpy as np\n"
   ]
  },
  {
   "cell_type": "code",
   "execution_count": 5,
   "metadata": {
    "collapsed": true
   },
   "outputs": [],
   "source": [
    "df = pd.DataFrame(np.arange(16).reshape(4,4))"
   ]
  },
  {
   "cell_type": "code",
   "execution_count": 6,
   "metadata": {
    "collapsed": false
   },
   "outputs": [
    {
     "data": {
      "text/html": [
       "<div>\n",
       "<table border=\"1\" class=\"dataframe\">\n",
       "  <thead>\n",
       "    <tr style=\"text-align: right;\">\n",
       "      <th></th>\n",
       "      <th>0</th>\n",
       "      <th>1</th>\n",
       "      <th>2</th>\n",
       "      <th>3</th>\n",
       "    </tr>\n",
       "  </thead>\n",
       "  <tbody>\n",
       "    <tr>\n",
       "      <th>0</th>\n",
       "      <td>0</td>\n",
       "      <td>4</td>\n",
       "      <td>8</td>\n",
       "      <td>12</td>\n",
       "    </tr>\n",
       "    <tr>\n",
       "      <th>1</th>\n",
       "      <td>1</td>\n",
       "      <td>5</td>\n",
       "      <td>9</td>\n",
       "      <td>13</td>\n",
       "    </tr>\n",
       "    <tr>\n",
       "      <th>2</th>\n",
       "      <td>2</td>\n",
       "      <td>6</td>\n",
       "      <td>10</td>\n",
       "      <td>14</td>\n",
       "    </tr>\n",
       "    <tr>\n",
       "      <th>3</th>\n",
       "      <td>3</td>\n",
       "      <td>7</td>\n",
       "      <td>11</td>\n",
       "      <td>15</td>\n",
       "    </tr>\n",
       "  </tbody>\n",
       "</table>\n",
       "</div>"
      ],
      "text/plain": [
       "   0  1   2   3\n",
       "0  0  4   8  12\n",
       "1  1  5   9  13\n",
       "2  2  6  10  14\n",
       "3  3  7  11  15"
      ]
     },
     "execution_count": 6,
     "metadata": {},
     "output_type": "execute_result"
    }
   ],
   "source": [
    "df.T"
   ]
  },
  {
   "cell_type": "code",
   "execution_count": null,
   "metadata": {
    "collapsed": true
   },
   "outputs": [],
   "source": []
  }
 ],
 "metadata": {
  "kernelspec": {
   "display_name": "Python 3",
   "language": "python",
   "name": "python3"
  },
  "language_info": {
   "codemirror_mode": {
    "name": "ipython",
    "version": 3
   },
   "file_extension": ".py",
   "mimetype": "text/x-python",
   "name": "python",
   "nbconvert_exporter": "python",
   "pygments_lexer": "ipython3",
   "version": "3.6.0"
  }
 },
 "nbformat": 4,
 "nbformat_minor": 2
}
