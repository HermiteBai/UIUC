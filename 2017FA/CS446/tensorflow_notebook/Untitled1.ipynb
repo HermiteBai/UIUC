{
 "cells": [
  {
   "cell_type": "code",
   "execution_count": 1,
   "metadata": {
    "collapsed": false
   },
   "outputs": [],
   "source": [
    "import tensorflow as tf\n",
    "from sklearn import datasets"
   ]
  },
  {
   "cell_type": "code",
   "execution_count": 2,
   "metadata": {
    "collapsed": true
   },
   "outputs": [],
   "source": [
    "iris = datasets.load_iris()"
   ]
  },
  {
   "cell_type": "code",
   "execution_count": 3,
   "metadata": {
    "collapsed": true
   },
   "outputs": [],
   "source": [
    "x_vals = np.array([x[0:3] for x in iris.data])\n",
    "y_vals = np.array([x[3] for x in iris.data])"
   ]
  },
  {
   "cell_type": "code",
   "execution_count": 4,
   "metadata": {
    "collapsed": true
   },
   "outputs": [],
   "source": [
    "sess = tf.Session()"
   ]
  },
  {
   "cell_type": "code",
   "execution_count": 5,
   "metadata": {
    "collapsed": true
   },
   "outputs": [],
   "source": [
    "seed = 2\n",
    "tf.set_random_seed(seed)\n",
    "np.random.seed(seed)"
   ]
  },
  {
   "cell_type": "code",
   "execution_count": 6,
   "metadata": {
    "collapsed": false
   },
   "outputs": [],
   "source": [
    "train_indices = np.random.choice(len(x_vals),round(len(x_vals)*0.8), replace=False)\n",
    "test_indices = np.array(list(set(range(len(x_vals))) - set(train_indices)))"
   ]
  },
  {
   "cell_type": "code",
   "execution_count": 7,
   "metadata": {
    "collapsed": true
   },
   "outputs": [],
   "source": [
    "x_vals_train = x_vals[train_indices]\n",
    "y_vals_train = y_vals[train_indices]"
   ]
  },
  {
   "cell_type": "code",
   "execution_count": 8,
   "metadata": {
    "collapsed": true
   },
   "outputs": [],
   "source": [
    "x_vals_test = x_vals[test_indices]\n",
    "y_vals_test = y_vals[test_indices]"
   ]
  },
  {
   "cell_type": "code",
   "execution_count": 9,
   "metadata": {
    "collapsed": true
   },
   "outputs": [],
   "source": [
    "def normalize_cols(m):\n",
    "    col_max = m.max(axis=0)\n",
    "    col_min = m.min(axis=0)\n",
    "    return (m - col_min) / (col_max - col_min)"
   ]
  },
  {
   "cell_type": "code",
   "execution_count": 10,
   "metadata": {
    "collapsed": true
   },
   "outputs": [],
   "source": [
    "x_vals_train = np.nan_to_num(normalize_cols(x_vals_train))\n",
    "x_vals_test = np.nan_to_num(normalize_cols(x_vals_test))"
   ]
  },
  {
   "cell_type": "code",
   "execution_count": 11,
   "metadata": {
    "collapsed": true
   },
   "outputs": [],
   "source": [
    "batch_size = 50\n",
    "with tf.name_scope('input'):\n",
    "    x_data = tf.placeholder(tf.float32, shape=[None, 3], name=\"x_input\")\n",
    "    y_target = tf.placeholder(tf.float32, shape=[None, 1], name=\"y_input\")"
   ]
  },
  {
   "cell_type": "code",
   "execution_count": 12,
   "metadata": {
    "collapsed": true
   },
   "outputs": [],
   "source": [
    "hidden_layer_nodes = 5\n",
    "with tf.name_scope('parameters'):\n",
    "    W1 = tf.Variable(tf.random_normal(shape=[3, hidden_layer_nodes]), name='weights1')\n",
    "    b1 = tf.Variable(tf.random_normal(shape=[hidden_layer_nodes]), name='bias1')\n",
    "    W2 = tf.Variable(tf.random_normal(shape=[hidden_layer_nodes, 1]), name='weights2')\n",
    "    b2 = tf.Variable(tf.random_normal(shape=[1]), name='bias2')\n"
   ]
  },
  {
   "cell_type": "code",
   "execution_count": 13,
   "metadata": {
    "collapsed": true
   },
   "outputs": [],
   "source": [
    "hidden_output = tf.nn.relu(tf.matmul(x_data, W1) + b1)\n",
    "final_output = tf.nn.relu(tf.matmul(hidden_output, W2) + b2)"
   ]
  },
  {
   "cell_type": "code",
   "execution_count": 14,
   "metadata": {
    "collapsed": false
   },
   "outputs": [],
   "source": [
    "loss = tf.reduce_mean(tf.square(y_target - final_output))"
   ]
  },
  {
   "cell_type": "code",
   "execution_count": 15,
   "metadata": {
    "collapsed": true
   },
   "outputs": [],
   "source": [
    "with tf.name_scope('train'):\n",
    "    train_step = tf.train.GradientDescentOptimizer(0.005).minimize(loss)"
   ]
  },
  {
   "cell_type": "code",
   "execution_count": 16,
   "metadata": {
    "collapsed": false
   },
   "outputs": [],
   "source": [
    "with tf.name_scope('evaluation'):\n",
    "    correct_prediction = tf.equal(tf.argmax(y_target, 1), tf.argmax(final_output, 1))\n",
    "    accuracy = tf.reduce_mean(tf.cast(correct_prediction, tf.float32))"
   ]
  },
  {
   "cell_type": "code",
   "execution_count": 17,
   "metadata": {
    "collapsed": false
   },
   "outputs": [],
   "source": [
    "sess.run(tf.global_variables_initializer())"
   ]
  },
  {
   "cell_type": "code",
   "execution_count": 18,
   "metadata": {
    "collapsed": true
   },
   "outputs": [],
   "source": [
    "logs_path = 'log/iris/1'"
   ]
  },
  {
   "cell_type": "code",
   "execution_count": 19,
   "metadata": {
    "collapsed": false
   },
   "outputs": [],
   "source": [
    "tf.summary.scalar('cost', loss)\n",
    "tf.summary.scalar('accuracy', accuracy)\n",
    "\n",
    "summary_op = tf.summary.merge_all()"
   ]
  },
  {
   "cell_type": "code",
   "execution_count": 20,
   "metadata": {
    "collapsed": true
   },
   "outputs": [],
   "source": [
    "loss_vec = []\n",
    "test_loss = []"
   ]
  },
  {
   "cell_type": "code",
   "execution_count": 21,
   "metadata": {
    "collapsed": false
   },
   "outputs": [
    {
     "name": "stdout",
     "output_type": "stream",
     "text": [
      "Epoch:  0\n",
      "Epoch:  5\n",
      "Epoch:  10\n",
      "Epoch:  15\n",
      "Epoch:  20\n",
      "Epoch:  25\n",
      "Epoch:  30\n",
      "Epoch:  35\n",
      "Epoch:  40\n",
      "Epoch:  45\n",
      "Epoch:  50\n",
      "Epoch:  55\n",
      "Epoch:  60\n",
      "Epoch:  65\n",
      "Epoch:  70\n",
      "Epoch:  75\n",
      "Epoch:  80\n",
      "Epoch:  85\n",
      "Epoch:  90\n",
      "Epoch:  95\n",
      "Epoch:  100\n",
      "Epoch:  105\n",
      "Epoch:  110\n",
      "Epoch:  115\n",
      "Epoch:  120\n",
      "Epoch:  125\n",
      "Epoch:  130\n",
      "Epoch:  135\n",
      "Epoch:  140\n",
      "Epoch:  145\n",
      "Epoch:  150\n",
      "Epoch:  155\n",
      "Epoch:  160\n",
      "Epoch:  165\n",
      "Epoch:  170\n",
      "Epoch:  175\n",
      "Epoch:  180\n",
      "Epoch:  185\n",
      "Epoch:  190\n",
      "Epoch:  195\n",
      "Epoch:  200\n",
      "Epoch:  205\n",
      "Epoch:  210\n",
      "Epoch:  215\n",
      "Epoch:  220\n",
      "Epoch:  225\n",
      "Epoch:  230\n",
      "Epoch:  235\n",
      "Epoch:  240\n",
      "Epoch:  245\n",
      "Epoch:  250\n",
      "Epoch:  255\n",
      "Epoch:  260\n",
      "Epoch:  265\n",
      "Epoch:  270\n",
      "Epoch:  275\n",
      "Epoch:  280\n",
      "Epoch:  285\n",
      "Epoch:  290\n",
      "Epoch:  295\n",
      "Epoch:  300\n",
      "Epoch:  305\n",
      "Epoch:  310\n",
      "Epoch:  315\n",
      "Epoch:  320\n",
      "Epoch:  325\n",
      "Epoch:  330\n",
      "Epoch:  335\n",
      "Epoch:  340\n",
      "Epoch:  345\n",
      "Epoch:  350\n",
      "Epoch:  355\n",
      "Epoch:  360\n",
      "Epoch:  365\n",
      "Epoch:  370\n",
      "Epoch:  375\n",
      "Epoch:  380\n",
      "Epoch:  385\n",
      "Epoch:  390\n",
      "Epoch:  395\n",
      "Epoch:  400\n",
      "Epoch:  405\n",
      "Epoch:  410\n",
      "Epoch:  415\n",
      "Epoch:  420\n",
      "Epoch:  425\n",
      "Epoch:  430\n",
      "Epoch:  435\n",
      "Epoch:  440\n",
      "Epoch:  445\n",
      "Epoch:  450\n",
      "Epoch:  455\n",
      "Epoch:  460\n",
      "Epoch:  465\n",
      "Epoch:  470\n",
      "Epoch:  475\n",
      "Epoch:  480\n",
      "Epoch:  485\n",
      "Epoch:  490\n",
      "Epoch:  495\n",
      "done\n"
     ]
    }
   ],
   "source": [
    "with tf.Session() as sess:\n",
    "    sess.run(tf.global_variables_initializer())\n",
    "    writer = tf.summary.FileWriter(logs_path, graph=tf.get_default_graph())\n",
    "    \n",
    "    for epoch in range(500):\n",
    "        rand_index = np.random.choice(len(x_vals_train), size=batch_size)\n",
    "        rand_x = x_vals_train[rand_index]\n",
    "        rand_y = np.transpose([y_vals_train[rand_index]])\n",
    "        _, summary = sess.run([train_step, summary_op], feed_dict={x_data : rand_x, y_target : rand_y})\n",
    "        writer.add_summary(summary, epoch)\n",
    "        temp_loss = sess.run(loss, feed_dict={x_data : rand_x, y_target : rand_y})\n",
    "        loss_vec.append(np.sqrt(temp_loss))\n",
    "        \n",
    "        test_temp_loss = sess.run(loss, feed_dict={x_data : x_vals_test, y_target : np.transpose([y_vals_test])})\n",
    "        test_loss.append(test_temp_loss)\n",
    "        if epoch % 5 == 0: \n",
    "            print(\"Epoch: \", epoch)\n",
    "    print(\"done\")\n",
    "    "
   ]
  },
  {
   "cell_type": "code",
   "execution_count": 22,
   "metadata": {
    "collapsed": false
   },
   "outputs": [
    {
     "data": {
      "text/plain": [
       "<matplotlib.legend.Legend at 0x11b988630>"
      ]
     },
     "execution_count": 22,
     "metadata": {},
     "output_type": "execute_result"
    },
    {
     "data": {
      "image/png": "[encoded data removed]",
      "text/plain": [
       "<matplotlib.figure.Figure at 0x11b96eda0>"
      ]
     },
     "metadata": {},
     "output_type": "display_data"
    }
   ],
   "source": [
    "plt.plot(loss_vec, 'k-', label=\"Train Loss\")\n",
    "plt.plot(test_loss, 'r--', label=\"Test Loss\")\n",
    "plt.title('Loss (MSE) per Generation')\n",
    "plt.xlabel('Generation')\n",
    "plt.ylabel('Loss')\n",
    "plt.legend(loc='upper right')"
   ]
  },
  {
   "cell_type": "code",
   "execution_count": null,
   "metadata": {
    "collapsed": true
   },
   "outputs": [],
   "source": []
  }
 ],
 "metadata": {
  "kernelspec": {
   "display_name": "Python 3",
   "language": "python",
   "name": "python3"
  },
  "language_info": {
   "codemirror_mode": {
    "name": "ipython",
    "version": 3
   },
   "file_extension": ".py",
   "mimetype": "text/x-python",
   "name": "python",
   "nbconvert_exporter": "python",
   "pygments_lexer": "ipython3",
   "version": "3.6.0"
  }
 },
 "nbformat": 4,
 "nbformat_minor": 2
}
