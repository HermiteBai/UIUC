{
 "cells": [
  {
   "cell_type": "code",
   "execution_count": 1,
   "metadata": {
    "collapsed": true
   },
   "outputs": [],
   "source": [
    "import tensorflow as tf"
   ]
  },
  {
   "cell_type": "code",
   "execution_count": 2,
   "metadata": {
    "collapsed": true
   },
   "outputs": [],
   "source": [
    "sess = tf.Session()"
   ]
  },
  {
   "cell_type": "code",
   "execution_count": 3,
   "metadata": {
    "collapsed": true
   },
   "outputs": [],
   "source": [
    "a = tf.Variable(tf.constant(4.))\n",
    "x_val = 5.\n",
    "x_data = tf.placeholder(dtype=tf.float32)"
   ]
  },
  {
   "cell_type": "code",
   "execution_count": 4,
   "metadata": {
    "collapsed": true
   },
   "outputs": [],
   "source": [
    "multiplication = tf.mul(a, x_data)"
   ]
  },
  {
   "cell_type": "code",
   "execution_count": 5,
   "metadata": {
    "collapsed": true
   },
   "outputs": [],
   "source": [
    "loss = tf.square(tf.sub(multiplication, 50.))"
   ]
  },
  {
   "cell_type": "code",
   "execution_count": 35,
   "metadata": {
    "collapsed": false
   },
   "outputs": [],
   "source": [
    "init = tf.global_variables_initializer()\n",
    "sess.run(init)\n",
    "my_opt = tf.train.GradientDescentOptimizer(0.01)\n",
    "train_step = my_opt.minimize(loss)"
   ]
  },
  {
   "cell_type": "code",
   "execution_count": 36,
   "metadata": {
    "collapsed": false,
    "scrolled": true
   },
   "outputs": [
    {
     "name": "stdout",
     "output_type": "stream",
     "text": [
      "7.0 35.0\n",
      "8.5 42.5\n",
      "9.25 46.25\n",
      "9.625 48.125\n",
      "9.8125 49.0625\n",
      "9.90625 49.5312\n",
      "9.95312 49.7656\n",
      "9.97656 49.8828\n",
      "9.98828 49.9414\n",
      "9.99414 49.9707\n",
      "9.99707 49.9854\n",
      "9.99854 49.9927\n",
      "9.99927 49.9963\n",
      "9.99963 49.9982\n",
      "9.99982 49.9991\n",
      "9.99991 49.9995\n",
      "9.99995 49.9998\n",
      "9.99998 49.9999\n",
      "9.99999 49.9999\n",
      "9.99999 50.0\n"
     ]
    }
   ],
   "source": [
    "a_vals = []\n",
    "losses = []\n",
    "for i in range(20):\n",
    "    sess.run(train_step, feed_dict={x_data : x_val})\n",
    "    a_val = sess.run(a)\n",
    "    mult_output = sess.run(multiplication, feed_dict={x_data : x_val})\n",
    "    loss_val = sess.run(loss, feed_dict={x_data : x_val})\n",
    "    print(a_val, mult_output)\n",
    "    losses.append(loss_val)\n",
    "    a_vals.append(a_val)"
   ]
  },
  {
   "cell_type": "code",
   "execution_count": 37,
   "metadata": {
    "collapsed": false
   },
   "outputs": [
    {
     "data": {
      "text/plain": [
       "[<matplotlib.lines.Line2D at 0x119071400>]"
      ]
     },
     "execution_count": 37,
     "metadata": {},
     "output_type": "execute_result"
    },
    {
     "data": {
      "image/png": "[encoded data removed]",
      "text/plain": [
       "<matplotlib.figure.Figure at 0x118f09048>"
      ]
     },
     "metadata": {},
     "output_type": "display_data"
    }
   ],
   "source": [
    "plt.plot(losses)"
   ]
  },
  {
   "cell_type": "code",
   "execution_count": null,
   "metadata": {
    "collapsed": true
   },
   "outputs": [],
   "source": []
  }
 ],
 "metadata": {
  "kernelspec": {
   "display_name": "Python 3",
   "language": "python",
   "name": "python3"
  },
  "language_info": {
   "codemirror_mode": {
    "name": "ipython",
    "version": 3
   },
   "file_extension": ".py",
   "mimetype": "text/x-python",
   "name": "python",
   "nbconvert_exporter": "python",
   "pygments_lexer": "ipython3",
   "version": "3.6.0"
  }
 },
 "nbformat": 4,
 "nbformat_minor": 2
}
