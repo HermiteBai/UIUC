{
 "cells": [
  {
   "cell_type": "markdown",
   "metadata": {},
   "source": [
    "# Introduction to ML\n",
    "\n",
    "## Supervised Learning\n",
    "\n",
    "### Classification\n",
    "\n",
    "Data = $\\{(x_i, y_i)\\}$, in which $x_i$ is called **instances** or **inputs** and $y_i$ is called **labels** that represent catergories\n",
    "\n",
    "Goal : Predict $\\hat{y}$ of input $\\hat{x}$\n",
    "\n",
    "### Regression\n",
    "Data = $\\{(x_i, y_i)\\}$, in which $x_i$ is called **instances** or **inputs** and $y_i$ is called **labels** that represent target value $y \\in \\mathbb{R}$ correspond to the input\n",
    "\n",
    "Goal : Predict value $\\hat{y}$ of input $\\hat{x}$\n",
    "\n",
    "## Unsupervised Learning\n",
    "\n",
    "Data = $\\{(x_i)\\}$\n",
    "\n",
    "Goal : Find useful structure in xs\n",
    "\n",
    "## Semi-supervised\n",
    "\n",
    "Mix of some labelled data and unlabelled data"
   ]
  },
  {
   "cell_type": "markdown",
   "metadata": {},
   "source": [
    "## Learning\n",
    "\n",
    "Given dataset $\\mathcal{D} = \\{(x_i, y_i) : i = 1 ,\\cdots, n\\}$\n",
    "\n",
    "Goal : Learn a function $h$ that gives $h(x_{n + 1}) = \\hat{y_{n + 1}}$, in which $x_i \\in \\mathcal{X} = \\mathbb{R}^d$ and $y_i = \\{-1, +1\\}$"
   ]
  },
  {
   "cell_type": "markdown",
   "metadata": {},
   "source": [
    "### Constant function\n",
    "\n",
    "$$h(x) = constant$$\n",
    "\n",
    "### Memoization\n",
    "\n",
    "$$h(x) = \\begin{cases} \n",
    "             y_i & \\mathrm{if } x = x_i\\\\\n",
    "             \\mathrm{unknown} & \\mathrm{if } x \\notin \\mathcal{X}\n",
    "         \\end{cases}$$\n",
    "#### Pro:\n",
    "+ No training time needed\n",
    "+ Stable performance\n",
    "\n",
    "#### Con:\n",
    "+ High memory for storage\n",
    "+ Look up cost\n",
    "+ Compromised by noise"
   ]
  },
  {
   "cell_type": "markdown",
   "metadata": {},
   "source": [
    "## Inductive Bias\n",
    "\n",
    "Assumptions that a ML model makes in order to make predicttions on new data"
   ]
  },
  {
   "cell_type": "markdown",
   "metadata": {},
   "source": [
    "## Example : Nearest Neighbor Classifier\n",
    "\n",
    "### Prediction\n",
    "\n",
    "$$N_1(x, \\mathcal{D}) = argmin_{z \\in \\mathcal{D}} d(x, z)$$ in which $d(x, z)$ is a distance metric \n",
    "\n",
    "$N_k(x, \\mathcal{D}) = $ set of k-points closet to $x$\n",
    "\n",
    "then\n",
    "\n",
    "$$h(x) = sign(\\frac{1}{k} \\sum_{z \\in N_k(x, \\mathcal{D})}y_{(z)})$$"
   ]
  },
  {
   "cell_type": "code",
   "execution_count": null,
   "metadata": {
    "collapsed": true
   },
   "outputs": [],
   "source": []
  }
 ],
 "metadata": {
  "kernelspec": {
   "display_name": "Python 3",
   "language": "python",
   "name": "python3"
  },
  "language_info": {
   "codemirror_mode": {
    "name": "ipython",
    "version": 3
   },
   "file_extension": ".py",
   "mimetype": "text/x-python",
   "name": "python",
   "nbconvert_exporter": "python",
   "pygments_lexer": "ipython3",
   "version": "3.6.2"
  }
 },
 "nbformat": 4,
 "nbformat_minor": 2
}
