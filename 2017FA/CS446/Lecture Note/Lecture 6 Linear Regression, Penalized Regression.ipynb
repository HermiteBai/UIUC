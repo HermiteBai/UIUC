{
 "cells": [
  {
   "cell_type": "markdown",
   "metadata": {},
   "source": [
    "# Linear Regression\n",
    "\n",
    "We have \n",
    "$$\\mathcal{Y} = \\mathbb{R}$$\n",
    "$$R(h, \\mathbb{P}) = \\mathbb{E}[(y - h)^2]$$\n",
    "$$R(h, D_n) = \\mathbb{E}[(y_i - h(x_i))^2]$$\n",
    "\n",
    "In order to \n",
    "$$argmin_{f \\in \\mathcal{F}} E_p [y = f(x_i)]$$\n",
    "\n",
    "we have Bayes Optimal\n",
    "$$f^* = \\mathbb{E}_p[y \\mid x]$$\n",
    "\n",
    "## Model\n",
    "\n",
    "$$P(y \\mid x) = \\mathcal{N}(y \\mid w^Tx, \\sigma^2)$$\n",
    "\n",
    "\\begin{align}\n",
    "    & \\mathcal{l}(\\theta) = \\sum_{i = 1}^n \\log \\mathcal{N}(w^T, \\sigma^2)\\nonumber\\\\\n",
    "    & \\phantom{mathcal{l}(\\theta)} = \\sum_{i = 1}^n-\\frac{1}{2\\sigma^2}(y_i - w^Tx_i) - \\frac{1}{2}\\log (2\\sigma^2\\pi)\n",
    "\\end{align}\n",
    "\n",
    "Then $$\\min_{w, \\sigma^2} -\\mathcal{l}(\\theta) = \\min_{\\sigma^2}\\left[- \\frac{1}{2}\\log (2\\sigma^2\\pi) + \\frac{1}{2\\sigma^2} \\min_w RSS(w)\\right]$$\n",
    "\n",
    "in which\n",
    "$$RSS = \\frac{1}{2}||y - xw||^2_2 = \\frac{1}{2}(y - xw)^T(y - xw)$$\n",
    "\n",
    "+ By MLE, we get $$w = (x^Tx)^{-1}x^Ty$$\n",
    "\n",
    "    + Storage : $O(d)$\n",
    "    + Computation : $O(d^3)$\n",
    "    \n",
    "+ By Gradient Descent\n",
    "    $$w_{t + 1} = w_t - \\gamma \\frac{\\partial RSS}{\\partial w}$$"
   ]
  },
  {
   "cell_type": "markdown",
   "metadata": {},
   "source": [
    "# Penalized Models\n",
    "\n",
    "+ Failure case of Least Square\n",
    "\n",
    "In $$w = (x^Tx)^{-1}xy$$\n",
    "\n",
    "if n < d, then $x^Tx$ is singular, so inverse fails\n",
    "\n",
    "add a prior\n",
    "\n",
    "+ Gaussian $\\mathcal{N}(0, \\lambda^2) \\Rightarrow = e^{||w||^2}$\n",
    "+ Laplacian $\\mathcal{N}(0, \\lambda^2) \\Rightarrow = e^{||w||^1}$\n",
    "+ Sparsity $\\mathcal{N}(0, \\lambda^2) \\Rightarrow = e^{||w||^0}$"
   ]
  },
  {
   "cell_type": "markdown",
   "metadata": {},
   "source": [
    "# MAP - maximum a posteriori\n",
    "\n",
    "$$\\theta = \\arg\\max_\\theta P(D_n \\mid \\theta)P(\\theta) = \\arg\\max_\\theta \\log P(D_n \\mid \\theta)P(\\theta) = \\arg\\max_\\theta \\log P(D_n \\mid \\theta) + \\log P(\\theta)$$\n",
    "\n",
    "## Model\n",
    "\n",
    "$$y \\sim \\mathcal{N}(w^Tx, \\sigma^2) \\Leftrightarrow y = w^Tx + \\varepsilon, \\varepsilon =  \\mathcal{N}(0, \\sigma^2)$$\n",
    "$$w \\sim \\mathcal{0, \\lambda^2}$$\n",
    "\n",
    "\\begin{align}\n",
    "    &g(\\theta) = -RSS(w) - ||w||^2_2 \\frac{\\sigma^2}{\\lambda^2} + const\\\\\n",
    "    \n",
    "\\end{align}\n",
    "\n",
    "easy to show that\n",
    "$$w^* = ( \\lambda I_D + X^TX )^{-1}X^Ty$$\n",
    "\n",
    "or using\n",
    "\n",
    "$$\\frac{}{} = \\sum x_i(w^Tx_i - y_i) + 2\\lambda w$$"
   ]
  },
  {
   "cell_type": "code",
   "execution_count": null,
   "metadata": {
    "collapsed": true
   },
   "outputs": [],
   "source": []
  }
 ],
 "metadata": {
  "kernelspec": {
   "display_name": "Python 3",
   "language": "python",
   "name": "python3"
  },
  "language_info": {
   "codemirror_mode": {
    "name": "ipython",
    "version": 3
   },
   "file_extension": ".py",
   "mimetype": "text/x-python",
   "name": "python",
   "nbconvert_exporter": "python",
   "pygments_lexer": "ipython3",
   "version": "3.6.2"
  }
 },
 "nbformat": 4,
 "nbformat_minor": 2
}
