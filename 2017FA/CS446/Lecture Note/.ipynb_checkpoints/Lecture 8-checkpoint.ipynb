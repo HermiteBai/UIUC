{
 "cells": [
  {
   "cell_type": "markdown",
   "metadata": {},
   "source": [
    "# Decision Tree\n",
    "\n",
    "## CART (Classification and Regression Trees)\n",
    "\n",
    "+ Issues\n",
    "    + Can't label boundry\n",
    "        + use $\\leq, \\geq$\n",
    "        + Adapt box to training data\n",
    "    + Box may have mixture of true / false\n",
    "        + Majority vote\n",
    "    + Box may be empty\n",
    "\n",
    "+ Training cost : depends on # of splits (which is not known before)\n",
    "\n",
    "+ Memory : depends on # of splits (which is not known before)\n",
    "    + Why do we care?\n",
    "        + worst case while model size $=$ training data size\n",
    "        + in general, model size $\\lll$ training data size\n",
    "+ Inductive bias\n",
    "    + Data labels partitioned in regions\n",
    "    + Axis seperable\n",
    "    \n",
    "+ Properties\n",
    "    + Scalable\n",
    "    + Robust to outlier\n",
    "    + Easy to mix discrete and continuous features\n",
    "    \n",
    "+ Prediction : $O(h)$\n",
    "\n",
    "+ Algorithm to grow the tree\n",
    "    + Need\n",
    "        + Dimension you are splitting\n",
    "        + Threshold (#Threshold = #data) and regions\n",
    "    + Predict\n",
    "$$(j^*, t^*) = \\arg \\min_{j \\in \\{1 \\cdots d\\}}\\min_{t\\in \\tau_j} cost(\\{x_i, y_i : x_{ij} \\leq t\\})$$\n",
    "    + Cost\n",
    "    $$\\pi_c = \\frac{1}{N}\\sum^N_{i = 1}1_{[y_i = c]}$$\n",
    "    \n",
    "        + Entropy\n",
    "    $H(\\pi) = -\\sum_{c = 1}^C \\pi_c\\log \\pi_c$\n",
    "    \n",
    "        + InfoGain $= \\Delta H = H(y) - H(y \\mid x < t)$\n",
    "    \n",
    "        + Gini Index $$\\sum_{c = 1}^C \\pi_c(1 - \\pi_c)$$"
   ]
  },
  {
   "cell_type": "markdown",
   "metadata": {},
   "source": [
    "# Boosting (Binary classifier)\n",
    "+ Learn a strong classifier by combining stage-wise weak classifiers\n",
    "\n",
    "+ Stage wise\n",
    "\n",
    "Step 1 : Learn $f_1$\n",
    "Step 2 : Learn $f_2 \\mid f_1$\n",
    "Step 3 : Learn $f_3 \\mid f_2, f_1$\n",
    "$\\vdots$\n",
    "Step n : Learn $f_n \\mid f_{n - 1} \\cdots f_2, f_1$"
   ]
  },
  {
   "cell_type": "code",
   "execution_count": null,
   "metadata": {
    "collapsed": true
   },
   "outputs": [],
   "source": []
  }
 ],
 "metadata": {
  "kernelspec": {
   "display_name": "Python 3",
   "language": "python",
   "name": "python3"
  },
  "language_info": {
   "codemirror_mode": {
    "name": "ipython",
    "version": 3
   },
   "file_extension": ".py",
   "mimetype": "text/x-python",
   "name": "python",
   "nbconvert_exporter": "python",
   "pygments_lexer": "ipython3",
   "version": "3.6.2"
  }
 },
 "nbformat": 4,
 "nbformat_minor": 2
}
