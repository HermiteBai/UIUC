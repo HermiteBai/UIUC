{
 "cells": [
  {
   "cell_type": "markdown",
   "metadata": {},
   "source": [
    "# Overfitting\n",
    "$h_n$ has good training performance, but bad testing performance (not generalize)\n",
    "$$R(h_n, D_{train}) \\ll R(h_n, D_{test})$$\n",
    "+ Hint : $\\mathcal{H}$ is too big\n",
    "    + E.g. 1-NN perfect training performance but bad testing performance\n",
    "    \n",
    "# Underfitting\n",
    "+ harder to detect\n",
    "+ $\\mathcal{H}$ is too small\n",
    "+ Very rare that \n",
    "$$R(h_n, D_{train}) \\gg R(h_n, D_{test})$$\n",
    "+ $$R(h_n, D_{train}) \\approx R(h_n, D_{test})$$ may imply underfitting"
   ]
  },
  {
   "cell_type": "markdown",
   "metadata": {},
   "source": [
    "# Bais / Variance\n",
    "\n",
    "+ Variance \n",
    "$$var(\\hat{x}) = \\frac{1}{n}\\sum[x_i - \\mathbb{E}[\\hat{x}]]^2 = \\mathbb{E}[[x_i - \\mathbb{E}[\\hat{x}]]^2]$$\n",
    "+ Bias \n",
    "$$bias(\\hat(x)_m) = \\mathbb{E}(\\hat(x)_m) - x$$\n",
    "\n",
    "+ Bias of classifier\n",
    "$$bias(\\hat{h}) = E[h_n] - f^* = h^* - f^*$$\n",
    "\n",
    "bias captures the influence of choice of $\\mathcal{H}$\n",
    "\n",
    "+ Variance of classifier\n",
    "$$var = \\mathbb{E}[(\\mathbb{E}[h_n] - h_n)^2] = \\mathbb{E}[(h^* - h_n)^2]$$\n",
    "\n",
    "    + E.g\n",
    "        + $h_n = 1$, $var(h_n) = 0$, bias is high\n",
    "        + $h_n = $1NN, $var(h_n)$ is high, bias is low\n",
    "\n",
    "Generally, ss a good trade off between Bais / Variance (\"Structure risk minimization\")\n",
    "\n",
    "+ Special case\n",
    "When $R$ is square loss\n",
    "$$R(h_n, \\mathbb{P}) = E[(y - h_n(x))^2]$$\n",
    "\n",
    "then\n",
    "$$error(h_n) = \\text{noise} + \\text{bias}^2 + \\text{variance}$$"
   ]
  },
  {
   "cell_type": "markdown",
   "metadata": {},
   "source": [
    "# How to pick good learner\n",
    "+ Try random algorithm\n",
    "+ Empirical risk minimization(ERM)\n",
    "$$h_n = argmin_{h \\in \\mathcal{H}} R(h, D_n)$$\n",
    "+ Probablistic Approach\n",
    "Find $$\\hat{\\mathbb{P}} \\approx \\mathbb{P}$$ that $|\\hat{\\mathbb{P}} - \\mathbb{P}|$ is small\n",
    "$$h_n = argmin_{f \\in \\mathcal{F}} R(f, \\hat{\\mathbb{P}})$$"
   ]
  },
  {
   "cell_type": "markdown",
   "metadata": {},
   "source": [
    "# Naive Bayes\n",
    "## Generative Model\n",
    "\n",
    "Given $D_n$, find a good model $\\hat{P}$\n",
    "\n",
    "$P(x, y) \\approx \\hat{P}(x \\mid y)\\hat{P}(y)$\n",
    "\n",
    "**Naive Bayes** assumes \n",
    "$$p(x \\mid y) = \\prod_{i = 1}^d p(x_i \\mid y)$$\n",
    "\n",
    "Then by Bayesian Theorem $$p(y \\mid x) = \\frac{p(x \\mid y)p(y)}{p(x)}$$\n",
    "\n",
    "Need to know:\n",
    "+ $\\pi_c$ for $p(y = c \\mid \\pi_c) = \\text{Bernorlli}(\\pi_c)$ in which $\\pi_c = p(y = c)$, $c = \\{-1, 1\\}$ \n",
    "\n",
    "Then we have $$P(x_j \\mid y, \\theta_j)$$\n"
   ]
  },
  {
   "cell_type": "markdown",
   "metadata": {
    "collapsed": true
   },
   "source": [
    "# Logistic Regression"
   ]
  },
  {
   "cell_type": "markdown",
   "metadata": {},
   "source": [
    "## Sigmoid Function\n",
    "$$\\text{sigmoid}(z) = \\frac{1}{1 + e^{-z}}$$\n",
    "\n",
    "+ Discriminative Model\n",
    "$$p(y \\mid x) = \\text{Bernoulli}[\\sigma(w^Tx)]$$"
   ]
  },
  {
   "cell_type": "code",
   "execution_count": 3,
   "metadata": {},
   "outputs": [
    {
     "data": {
      "text/plain": [
       "[<matplotlib.lines.Line2D at 0x10e53c748>]"
      ]
     },
     "execution_count": 3,
     "metadata": {},
     "output_type": "execute_result"
    },
    {
     "data": {
      "image/png": "[encoded data removed]",
      "text/plain": [
       "<matplotlib.figure.Figure at 0x10e4a2e80>"
      ]
     },
     "metadata": {},
     "output_type": "display_data"
    }
   ],
   "source": [
    "x = np.linspace(-10, 10, 100)\n",
    "def sigmoid(z):\n",
    "    return 1 / (1 + np.exp(-z))\n",
    "plt.plot(x, sigmoid(x))"
   ]
  },
  {
   "cell_type": "markdown",
   "metadata": {},
   "source": [
    "**TODO**"
   ]
  },
  {
   "cell_type": "markdown",
   "metadata": {},
   "source": [
    "# Maximum Likelihood\n",
    "Find parameters that \"most likely\"\n",
    "$$\\hat{\\theta} = argmax_{\\theta} P(D_n \\mid \\theta)$$\n",
    "$$\\hat{P} = P(x, y \\mid \\hat{\\theta})$$\n",
    "usually use negative log likelihood\n",
    "$$\\hat{\\theta} = argmin_{\\theta} -\\log P(D_n \\mid \\theta)$$"
   ]
  },
  {
   "cell_type": "code",
   "execution_count": null,
   "metadata": {
    "collapsed": true
   },
   "outputs": [],
   "source": []
  }
 ],
 "metadata": {
  "kernelspec": {
   "display_name": "Python 3",
   "language": "python",
   "name": "python3"
  },
  "language_info": {
   "codemirror_mode": {
    "name": "ipython",
    "version": 3
   },
   "file_extension": ".py",
   "mimetype": "text/x-python",
   "name": "python",
   "nbconvert_exporter": "python",
   "pygments_lexer": "ipython3",
   "version": "3.6.2"
  }
 },
 "nbformat": 4,
 "nbformat_minor": 2
}
