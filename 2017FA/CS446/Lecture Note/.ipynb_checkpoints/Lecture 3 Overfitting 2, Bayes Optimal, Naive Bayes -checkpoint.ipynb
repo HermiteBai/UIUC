{
 "cells": [
  {
   "cell_type": "markdown",
   "metadata": {},
   "source": [
    "# Goal of supervised ML\n",
    "+ Find a learner / algorithm / procedure that makes accurate predictions on new data ($R(h_n, \\mathcal{P}) \\leftarrow \\text{small}$)\n",
    "    + Accurate on training data $R(h_n, D_n)$\n",
    "    + Generalize $|R(h_n, \\mathcal{P}) - R(h_n, \\mathcal{D_n})| \\rightarrow 0$\n",
    "    \n",
    "# Bayes Optimal Classifier\n",
    "$$f^*(x) = argmin_{f \\in \\mathcal{F}}\\text{ R}(f, \\mathbb{P})$$\n"
   ]
  },
  {
   "cell_type": "markdown",
   "metadata": {},
   "source": [
    "We have $\\mathcal{H} \\subseteq \\mathcal{F}$, in which we have bayes optimal function $f^* \\in \\mathcal{F}$, best possible trained funtion $h^* \\in \\mathcal{H}$ and the function we get $h \\in \\mathcal{H}$,\n",
    "\n",
    "so we have\n",
    "+ Representation error : between $f^*$ and $h^*$\n",
    "+ Statistical error / optimization error : between $h$ and $h^*$"
   ]
  },
  {
   "cell_type": "code",
   "execution_count": null,
   "metadata": {
    "collapsed": true
   },
   "outputs": [],
   "source": []
  }
 ],
 "metadata": {
  "kernelspec": {
   "display_name": "Python 3",
   "language": "python",
   "name": "python3"
  },
  "language_info": {
   "codemirror_mode": {
    "name": "ipython",
    "version": 3
   },
   "file_extension": ".py",
   "mimetype": "text/x-python",
   "name": "python",
   "nbconvert_exporter": "python",
   "pygments_lexer": "ipython3",
   "version": "3.6.2"
  }
 },
 "nbformat": 4,
 "nbformat_minor": 2
}
