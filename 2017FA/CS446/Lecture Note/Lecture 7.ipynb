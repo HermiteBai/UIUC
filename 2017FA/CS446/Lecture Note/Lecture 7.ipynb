{
 "cells": [
  {
   "cell_type": "markdown",
   "metadata": {},
   "source": [
    "# Variable Selection\n",
    "\n",
    "+ Some of the features are irrelevant\n",
    "    + Forward selection : all parameters \"greedily\" if they beneficial $\\rightarrow$ increase acc\n",
    "    $$RSS(w) = ||y - xw_v||^2_2$$ where\n",
    "    $$w_v = \\begin{cases}\n",
    "        w_i & i \\in V\\\\\n",
    "        0   & \\text{otherwise}\n",
    "    \\end{cases}$$\n",
    "    \n",
    "        + Algorithm:\n",
    "            + Initialize $V = \\emptyset, s = [d]$\n",
    "            + while $|V| < \\lambda$\n",
    "            $$k^* = \\arg\\max_{k\\in S}RSS(w_{v \\cup \\{k\\}})$$\n",
    "            $$V = w_{v \\cup \\{k^*\\}}$$\n",
    "            $$S = S \\ \\{K^*\\}$$\n",
    "    + Reverse selection : Get rid of parameters that are harmful"
   ]
  },
  {
   "cell_type": "markdown",
   "metadata": {},
   "source": [
    "# Lasso $l_1$\n",
    "+ \"closest\" regularization of $l_0$\n",
    "+ How to solve?\n",
    "$$\\min_w ||y - xw||^2_2 + \\lambda ||w||_1$$\n",
    "    + Proximal Gradient Descent\n",
    "        + $prox_n(x) = \\min_z \\{h(x) + \\frac{1}{2}||z - x||^2_2\\} = softmax$\n",
    "        + $w_{t + 1} = prox_n(w_t - \\gamma \\nabla f(w_t))$"
   ]
  },
  {
   "cell_type": "code",
   "execution_count": null,
   "metadata": {
    "collapsed": true
   },
   "outputs": [],
   "source": []
  }
 ],
 "metadata": {
  "kernelspec": {
   "display_name": "Python 3",
   "language": "python",
   "name": "python3"
  },
  "language_info": {
   "codemirror_mode": {
    "name": "ipython",
    "version": 3
   },
   "file_extension": ".py",
   "mimetype": "text/x-python",
   "name": "python",
   "nbconvert_exporter": "python",
   "pygments_lexer": "ipython3",
   "version": "3.6.2"
  }
 },
 "nbformat": 4,
 "nbformat_minor": 2
}
